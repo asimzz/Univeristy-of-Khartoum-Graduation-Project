{
  "cells": [
    {
      "cell_type": "markdown",
      "metadata": {
        "colab_type": "text",
        "id": "view-in-github"
      },
      "source": [
        "<a href=\"https://colab.research.google.com/github/AsimZz/Univeristy-of-Khartoum-Graduation-Project/blob/master/cnn_models_and_training.ipynb\" target=\"_parent\"><img src=\"https://colab.research.google.com/assets/colab-badge.svg\" alt=\"Open In Colab\"/></a>"
      ]
    },
    {
      "cell_type": "markdown",
      "metadata": {
        "id": "kYxKxN7d8-TM"
      },
      "source": [
        "# Initial Setup"
      ]
    },
    {
      "cell_type": "code",
      "execution_count": null,
      "metadata": {
        "id": "2L2yIQF8ClBc"
      },
      "outputs": [],
      "source": [
        "!pip install torch==1.6.0 torchvision==0.7.0"
      ]
    },
    {
      "cell_type": "code",
      "execution_count": null,
      "metadata": {
        "id": "wFXkd5k3AHwk"
      },
      "outputs": [],
      "source": [
        "import torch\n",
        "import numpy as np \n",
        "from tqdm import tqdm\n",
        "\n",
        "%matplotlib inline"
      ]
    },
    {
      "cell_type": "code",
      "execution_count": null,
      "metadata": {
        "id": "E1TzoXkISUiK"
      },
      "outputs": [],
      "source": [
        "from google.colab import drive\n",
        "drive.mount('/content/gdrive')"
      ]
    },
    {
      "cell_type": "markdown",
      "metadata": {
        "id": "s3WP-mEK9HtA"
      },
      "source": [
        "# Preprocessing Setup"
      ]
    },
    {
      "cell_type": "code",
      "execution_count": null,
      "metadata": {},
      "outputs": [],
      "source": [
        "from device import get_default_device\n",
        "device = get_default_device()\n",
        "device"
      ]
    },
    {
      "cell_type": "code",
      "execution_count": null,
      "metadata": {
        "id": "wR68ltZaBvxN"
      },
      "outputs": [],
      "source": [
        "data_origin = \"/path/to/the/dataset/\""
      ]
    },
    {
      "cell_type": "code",
      "execution_count": null,
      "metadata": {
        "id": "rBKBt8jRCzmF"
      },
      "outputs": [],
      "source": [
        "from torchvision.datasets import ImageFolder\n",
        "import torchvision.transforms as transforms\n",
        "from helpers import tiff_loader\n",
        "\n",
        "data_transforms = transforms.Compose([transforms.ToTensor()])\n",
        "image_datasets = ImageFolder(root=data_origin, loader=tiff_loader)"
      ]
    },
    {
      "cell_type": "code",
      "execution_count": null,
      "metadata": {
        "id": "AICgrVM-KGLy"
      },
      "outputs": [],
      "source": [
        "from dataset import EuroSatDataset\n",
        "\n",
        "## run this cell only once if you didn't save the EuroDataset class object\n",
        "images = []\n",
        "labels = []\n",
        "\n",
        "image_datasets = EuroSatDataset(images, labels)\n",
        "\n",
        "for image, label in tqdm(image_datasets):\n",
        "    images.append(image)\n",
        "    labels.append(labels)"
      ]
    },
    {
      "cell_type": "code",
      "execution_count": null,
      "metadata": {
        "id": "qxcR6kqaVI5A"
      },
      "outputs": [],
      "source": [
        "import pickle\n",
        "\n",
        "save_path = '/path/to/save/the/files'"
      ]
    },
    {
      "cell_type": "code",
      "execution_count": null,
      "metadata": {
        "id": "cXOfjg35NT9G"
      },
      "outputs": [],
      "source": [
        "from helpers import load_dataset_from_pickle, save_dataset_in_pickle\n",
        "\n",
        "## then we save the model in drive\n",
        "\n",
        "save_dataset_in_pickle(save_path, image_datasets)\n",
        "image_datasets = load_dataset_from_pickle(save_path)"
      ]
    },
    {
      "cell_type": "code",
      "execution_count": null,
      "metadata": {
        "id": "GDfa3o5qWuEA"
      },
      "outputs": [],
      "source": [
        "len(image_datasets)"
      ]
    },
    {
      "cell_type": "code",
      "execution_count": null,
      "metadata": {
        "id": "ZxR-q9DIDkPX"
      },
      "outputs": [],
      "source": [
        "from helpers import split_dataset\n",
        "\n",
        "train_data, val_data, test_data = split_dataset(image_datasets)"
      ]
    },
    {
      "cell_type": "code",
      "execution_count": null,
      "metadata": {
        "id": "sNJUN1_DnSfG"
      },
      "outputs": [],
      "source": [
        "print(\"Train Length = \" + str(len(train_data)))\n",
        "print(\"Validation Length = \" + str(len(val_data)))\n",
        "print(\"Test Length = \" + str(len(test_data)))"
      ]
    },
    {
      "cell_type": "code",
      "execution_count": null,
      "metadata": {
        "id": "kvWXD59tDyRC"
      },
      "outputs": [],
      "source": [
        "from torch.utils.data import DataLoader\n",
        "\n",
        "batch_size = 64\n",
        "kw = {\"num_workers\": 8, \"pin_memory\": True} if device == \"cuda\" else {}\n",
        "\n",
        "train_loaders = DataLoader(train_data, batch_size=batch_size, shuffle=True, **kw)\n",
        "val_loaders = DataLoader(val_data, batch_size=batch_size, shuffle=True, **kw)\n",
        "test_loaders = DataLoader(test_data, batch_size=batch_size, shuffle=True, **kw)"
      ]
    },
    {
      "cell_type": "code",
      "execution_count": null,
      "metadata": {},
      "outputs": [],
      "source": [
        "from device import DeviceDataLoader\n",
        "\n",
        "train_loader = DeviceDataLoader(train_loader, device)\n",
        "val_loader = DeviceDataLoader(val_loader, device)"
      ]
    },
    {
      "cell_type": "code",
      "execution_count": null,
      "metadata": {},
      "outputs": [],
      "source": [
        "torch.cuda.empty_cache()"
      ]
    },
    {
      "cell_type": "markdown",
      "metadata": {
        "id": "aglmBwlJA1Q7"
      },
      "source": [
        "# Model Architectures"
      ]
    },
    {
      "cell_type": "code",
      "execution_count": null,
      "metadata": {
        "id": "OzPk6GFoB_Su"
      },
      "outputs": [],
      "source": [
        "from models import ResNet152, GoogleNet, EfficientNet\n",
        "from trainer import ModelTrainer\n",
        "from device import to_device\n",
        "\n",
        "resnet_model = ResNet152(13, 10)\n",
        "googleNet_model = GoogleNet(13, 10)\n",
        "enet_model = EfficientNet(\n",
        "    version=\"b0\",\n",
        "    num_classes=10,\n",
        ")"
      ]
    },
    {
      "cell_type": "markdown",
      "metadata": {
        "id": "4w-BQWzD812M"
      },
      "source": [
        "## ResNet-152 Model\n",
        "\n",
        "Residual network use the concept of residual blocks. it was proved that ResNet can perform very well in image classification tasks.\n",
        "The architecture of the network is explained in the figure below:\n",
        "\n",
        "![alt text](https://www.researchgate.net/profile/Dongyun-Lin/publication/324961229/figure/fig2/AS:633700479954944@1528097376059/The-basic-architecture-of-Resnet152.png)"
      ]
    },
    {
      "cell_type": "markdown",
      "metadata": {},
      "source": [
        "### Training The ResNet model"
      ]
    },
    {
      "cell_type": "code",
      "execution_count": null,
      "metadata": {},
      "outputs": [],
      "source": [
        "resnet_model = to_device(resnet_model, device)\n",
        "resnet_trainer = ModelTrainer(resnet_model, \"resnet\", train_loader, val_loader)\n",
        "history = [resnet_trainer.evaluate()]\n",
        "\n",
        "\n",
        "# history += resnet_trainer.train(epochs=20,save_path=\"\",)\n",
        "\n",
        "# The path where you saved the model weights\n",
        "saved_model = torch.load(save_path)\n",
        "\n",
        "saved_resnet_model = to_device(ResNet152(13, 10), device)\n",
        "saved_resnet_model.load_state_dict(saved_model[\"resnet\"])\n",
        "\n",
        "check_accuracy(train_loader, resnet_model)"
      ]
    },
    {
      "cell_type": "markdown",
      "metadata": {
        "id": "0L-N8iiUBJf3"
      },
      "source": [
        "## GoogleNet (InceptionNet) Model\n",
        "\n",
        "<img src=\"https://www.researchgate.net/profile/Bo-Zhao-67/publication/312515254/figure/fig3/AS:489373281067012@1493687090916/nception-module-of-GoogLeNet-This-figure-is-from-the-original-paper-10.png\" width=500>"
      ]
    },
    {
      "cell_type": "markdown",
      "metadata": {},
      "source": [
        "### Training The GoogleNet model"
      ]
    },
    {
      "cell_type": "code",
      "execution_count": null,
      "metadata": {},
      "outputs": [],
      "source": [
        "googleNet_model = to_device(googleNet_model, device)\n",
        "googleTrainer = ModelTrainer(googleNet_model, \"resnet\", train_loader, val_loader)\n",
        "history = [googleTrainer.evaluate()]\n",
        "\n",
        "\n",
        "# history += googleTrainer.train(epochs=20,save_path=\"\")\n",
        "\n",
        "saved_model = torch.load(save_path)\n",
        "\n",
        "saved_googleNet_model = to_device(GoogleNet(13, 10), device)\n",
        "saved_googleNet_model.load_state_dict(saved_model[\"googleNet_model\"])\n",
        "\n",
        "check_accuracy(train_loader, googleNet_model)"
      ]
    },
    {
      "cell_type": "markdown",
      "metadata": {
        "id": "L4phyY29NgX7"
      },
      "source": [
        "## EfficientNet Model\n"
      ]
    },
    {
      "cell_type": "markdown",
      "metadata": {
        "id": "9h8U1sbxO3sU"
      },
      "source": [
        "### Training The EffNet model"
      ]
    },
    {
      "cell_type": "code",
      "execution_count": null,
      "metadata": {
        "id": "9S0uE6YfO3sW"
      },
      "outputs": [],
      "source": [
        "efficentnet_model = to_device(enet_model, device)\n",
        "efficentnet_trainer = ModelTrainer(\n",
        "    resnet_model, \"efficentnet\", train_loader, val_loader\n",
        ")\n",
        "history = [efficentnet_trainer.evaluate()]\n",
        "\n",
        "# history += efficentnet_trainer.train(epochs=20,save_path=\"\")\n",
        "\n",
        "\n",
        "saved_model = torch.load(save_path)\n",
        "\n",
        "saved_effNet_model = to_device(EfficientNet(\"b0\", 10), device)\n",
        "saved_effNet_model.load_state_dict(saved_model[\"effNet_model\"])\n",
        "\n",
        "check_accuracy(train_loader, saved_effNet_model)"
      ]
    },
    {
      "cell_type": "markdown",
      "metadata": {
        "id": "sWjBMhXk8hNI"
      },
      "source": [
        "# Other Metrics"
      ]
    },
    {
      "cell_type": "code",
      "execution_count": null,
      "metadata": {},
      "outputs": [],
      "source": [
        "from metrics import check_metric\n",
        "from sklearn import metrics"
      ]
    },
    {
      "cell_type": "markdown",
      "metadata": {
        "id": "EWsgZdxT8N__"
      },
      "source": [
        "### Precision, Recall and F1 Score For GoogleNet"
      ]
    },
    {
      "cell_type": "code",
      "execution_count": null,
      "metadata": {
        "id": "lDCCAH_28bRl"
      },
      "outputs": [],
      "source": [
        "check_metric(test_loaders,saved_googleNet_model,metrics.recall_score,'macro','Recall')"
      ]
    },
    {
      "cell_type": "code",
      "execution_count": null,
      "metadata": {
        "id": "R_NkKIWl8rVu"
      },
      "outputs": [],
      "source": [
        "check_metric(test_loaders,saved_googleNet_model,metrics.precision_score,'macro','Precision')"
      ]
    },
    {
      "cell_type": "code",
      "execution_count": null,
      "metadata": {
        "id": "QrnKDu7a7Flf"
      },
      "outputs": [],
      "source": [
        "check_metric(test_loaders,saved_googleNet_model,metrics.f1_score,'macro','F1')"
      ]
    },
    {
      "cell_type": "markdown",
      "metadata": {
        "id": "Jr14eIW35QwW"
      },
      "source": [
        "### Precision, Recall and F1 score for ResNet152"
      ]
    },
    {
      "cell_type": "code",
      "execution_count": null,
      "metadata": {
        "id": "mIuymxam5Xgc"
      },
      "outputs": [],
      "source": [
        "check_metric(test_loaders,saved_resnet_model,metrics.recall_score,'macro','Recall')"
      ]
    },
    {
      "cell_type": "code",
      "execution_count": null,
      "metadata": {
        "id": "PNuyIkiU5c0n"
      },
      "outputs": [],
      "source": [
        "check_metric(test_loaders,saved_resnet_model,metrics.precision_score,'macro','Precision')"
      ]
    },
    {
      "cell_type": "code",
      "execution_count": null,
      "metadata": {
        "id": "quCzxBcX5l5y"
      },
      "outputs": [],
      "source": [
        "check_metric(test_loaders,saved_resnet_model,metrics.f1_score,'macro','F1')"
      ]
    },
    {
      "cell_type": "markdown",
      "metadata": {},
      "source": [
        "### Precision, Recall and F1 score for EfficientNet"
      ]
    },
    {
      "cell_type": "code",
      "execution_count": null,
      "metadata": {},
      "outputs": [],
      "source": [
        "check_metric(test_loaders,saved_effNet_model,metrics.recall_score,'macro','Recall')"
      ]
    },
    {
      "cell_type": "code",
      "execution_count": null,
      "metadata": {},
      "outputs": [],
      "source": [
        "check_metric(test_loaders,saved_effNet_model,metrics.precision_score,'macro','Precision')"
      ]
    },
    {
      "cell_type": "code",
      "execution_count": null,
      "metadata": {},
      "outputs": [],
      "source": [
        "check_metric(test_loaders,saved_effNet_model,metrics.f1_score,'macro','F1')"
      ]
    }
  ],
  "metadata": {
    "accelerator": "GPU",
    "colab": {
      "collapsed_sections": [
        "kYxKxN7d8-TM",
        "s3WP-mEK9HtA",
        "fbBNBHoLJFkJ",
        "fgmcbASbItVB",
        "zeTzfMcZ9sxr",
        "B8XaOODBTdPa",
        "0L-N8iiUBJf3",
        "738LnrnBTAWj",
        "Zfn0f8lpmSTJ",
        "sWjBMhXk8hNI",
        "EWsgZdxT8N__",
        "Jr14eIW35QwW",
        "5qUIlbvP8Ss5"
      ],
      "include_colab_link": true,
      "name": "cnn_models_and_training.ipynb",
      "provenance": []
    },
    "kernelspec": {
      "display_name": "Python 3",
      "name": "python3"
    },
    "language_info": {
      "codemirror_mode": {
        "name": "ipython",
        "version": 3
      },
      "file_extension": ".py",
      "mimetype": "text/x-python",
      "name": "python",
      "nbconvert_exporter": "python",
      "pygments_lexer": "ipython3",
      "version": "3.11.8"
    }
  },
  "nbformat": 4,
  "nbformat_minor": 0
}
