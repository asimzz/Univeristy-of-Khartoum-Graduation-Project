{
  "cells": [
    {
      "cell_type": "markdown",
      "metadata": {
        "colab_type": "text",
        "id": "view-in-github"
      },
      "source": [
        "<a href=\"https://colab.research.google.com/github/AsimZz/Univeristy-of-Khartoum-Graduation-Project/blob/master/RGB_Biocapacity_.ipynb\" target=\"_parent\"><img src=\"https://colab.research.google.com/assets/colab-badge.svg\" alt=\"Open In Colab\"/></a>"
      ]
    },
    {
      "cell_type": "markdown",
      "metadata": {
        "id": "t1sHTMkL1au3"
      },
      "source": [
        "# Initialization\n",
        "\n"
      ]
    },
    {
      "cell_type": "code",
      "execution_count": null,
      "metadata": {},
      "outputs": [],
      "source": [
        "import numpy as np\n",
        "from model import EuroSatRGBClassifier\n",
        "from preprocessing import load_dataset, split_dataset\n",
        "\n",
        "\n",
        "\n",
        "# Download and read RGB EuroSAT images from URL \n",
        "# RGB file URL\n",
        "url = \"http://madm.dfki.de/files/sentinel/EuroSAT.zip\"\n",
        "\n",
        "images, labels = load_dataset(url)\n",
        "\n",
        "num_classes = len(np.array(np.unique(labels)))"
      ]
    },
    {
      "cell_type": "code",
      "execution_count": null,
      "metadata": {},
      "outputs": [],
      "source": [
        "X_train, X_test, y_train, y_test = split_dataset(images,labels,num_classes)"
      ]
    },
    {
      "cell_type": "code",
      "execution_count": null,
      "metadata": {},
      "outputs": [],
      "source": [
        "model_file = '/content/drive/MyDrive/Graduation Project/ds-rgb/M8.h5'\n",
        "\n",
        "\n",
        "classifier = EuroSatRGBClassifier(X_train.shape[1:],num_classes,model_file)\n",
        "\n",
        "# history = classifier.train(X_train, X_test, y_train, y_test,epochs=20,batch_size=64)\n",
        "# score = classifier.model.evaluate(X_test, y_test, verbose=0)\n",
        "classifier.load_weights(model_file)"
      ]
    },
    {
      "cell_type": "markdown",
      "metadata": {
        "id": "NLPUHEhV6lNV"
      },
      "source": [
        "# Predicting Khartoum State Labels\n",
        "\n",
        "\n",
        "\n"
      ]
    },
    {
      "cell_type": "code",
      "execution_count": null,
      "metadata": {
        "colab": {
          "base_uri": "https://localhost:8080/"
        },
        "id": "7jbMxJjd6rSS",
        "outputId": "0761fcb2-bc15-4a0f-9894-6143e3ca0d43"
      },
      "outputs": [],
      "source": [
        "!pip install image-slicer"
      ]
    },
    {
      "cell_type": "code",
      "execution_count": null,
      "metadata": {
        "colab": {
          "base_uri": "https://localhost:8080/",
          "height": 403
        },
        "id": "Q5L9ZXWW6y1I",
        "outputId": "a4718f08-f720-4a0b-c7a8-c39f15832c40"
      },
      "outputs": [],
      "source": [
        "from PIL import Image,ImageOps , ImageEnhance\n",
        "import glob\n",
        "import matplotlib.pyplot as plt\n",
        "import matplotlib\n",
        "import cv2\n",
        "import numpy as np\n",
        "from keras.preprocessing import image\n",
        "%matplotlib inline\n",
        "import cv2\n",
        "import numpy as np\n",
        "from matplotlib import pyplot as plt\n",
        "from scipy import ndimage\n",
        "from scipy import misc\n",
        "import scipy.misc\n",
        "import scipy\n",
        "import image_slicer\n",
        "from image_slicer import join\n",
        "from PIL import Image\n",
        "import imageio\n",
        "\n",
        "#importing the full image\n",
        "img=Image.open('/content/drive/MyDrive/Graduation Project/totilast.jpg')\n",
        "#specifying the number of tiles \n",
        "num_tiles = 2500\n",
        "#slicing the image \n",
        "tiles = image_slicer.slice('/content/drive/MyDrive/Graduation Project/totilast.jpg', num_tiles)\n",
        "#adding the tiles into image list \n",
        "image_list = []\n",
        "for tile in tiles:\n",
        "    img = imageio.imread(tile.filename)\n",
        "    image_list.append(img)\n",
        "# work on the copy only\n",
        "list1 = image_list\n",
        "#making a prediction dict to save the predictions of each tile \n",
        "prediction = dict.fromkeys(range(0,2499 ))\n",
        "pred_index = {}\n",
        "#loop through the tiles \n",
        "AnnualCropindex = []\n",
        "Forestindex = []\n",
        "HerbaceousVegetationindex = []\n",
        "Highwayindex = []\n",
        "Industrialindex = []\n",
        "Pastureindex = []\n",
        "PermanentCropindex = []\n",
        "Residentialindex = []\n",
        "Riverindex = []\n",
        "SeaLakeindex = []\n",
        "for i in range(0,2499):\n",
        "  #resizing so it can fit the model\n",
        "  imgx = np.resize(list1[i],(64,64,3))\n",
        "  img1 = image.img_to_array(imgx)\n",
        "  img = np.expand_dims(img1, axis = 0)\n",
        "  x =classifier.predict(img)\n",
        "  prediction[i] = x[0]\n",
        "  index_max = np.argmax(prediction[i])\n",
        "  pred_index[i] = index_max\n",
        "  newlist = Image.fromarray(image_list[i])\n",
        "  tiles[i].image = newlist\n",
        "  if(pred_index[i] == 0):\n",
        "    AnnualCropindex.append(i)\n",
        "  if(pred_index[i] == 1):\n",
        "    Forestindex.append(i)\n",
        "  if(pred_index[i] == 2):\n",
        "    HerbaceousVegetationindex.append(i)\n",
        "  if(pred_index[i] == 3):\n",
        "    Highwayindex.append(i)\n",
        "  if(pred_index[i] == 4):\n",
        "    Industrialindex.append(i)\n",
        "  if(pred_index[i] == 5):\n",
        "    Pastureindex.append(i)\n",
        "  if(pred_index[i] == 6):\n",
        "    PermanentCropindex.append(i)\n",
        "  if(pred_index[i] == 7):\n",
        "    Residentialindex.append(i)\n",
        "  if(pred_index[i] == 8):\n",
        "    Riverindex.append(i)\n",
        "  if(pred_index[i] == 9):\n",
        "    SeaLakeindex.append(i)\n",
        "\n",
        "  #coloring each tile \n",
        "  # if index_max == 8:\n",
        "  #   list1[i] = cv2.cvtColor(image_list[i], cv2.COLOR_BGR2BGRA )\n",
        "  # elif index_max == 7:\n",
        "  #   list1[i] = cv2.cvtColor(image_list[i], cv2.COLOR_BGR2RGBA )\n",
        "  # elif index_max == 6:\n",
        "  #   list1[i] = cv2.cvtColor(image_list[i], cv2.COLOR_BGR2GRAY )\n",
        "  # elif index_max == 5:\n",
        "  #   list1[i] = cv2.cvtColor(image_list[i], cv2.COLOR_BGR2BGR565 )\n",
        "  # elif index_max == 4:\n",
        "  #   list1[i] = cv2.cvtColor(image_list[i], cv2.COLOR_BGR2XYZ )\n",
        "  # elif index_max == 3:\n",
        "  #   list1[i] = cv2.cvtColor(image_list[i], cv2.COLOR_BGR2XYZ )\n",
        "  # elif index_max == 2:\n",
        "  #   list1[i] = cv2.cvtColor(image_list[i], cv2.COLOR_BGR2YCrCb )\n",
        "  # elif index_max == 1:\n",
        "  #   list1[i] = cv2.cvtColor(image_list[i], cv2.COLOR_BGR2HSV )\n",
        "  # elif index_max == 9:\n",
        "  #   list1[i] = cv2.cvtColor(image_list[i], cv2.COLOR_BGR2HSV_FULL )\n",
        "  # elif index_max == 0:\n",
        "  #   list1[i] = cv2.cvtColor(image_list[i], cv2.COLOR_BGR2HLS_FULL )\n",
        "\n",
        "\n",
        "    # display(imgxx)\n",
        "#merging tiles to one final image\n",
        "# for i in range(0,2499):\n",
        "#   newlist = Image.fromarray(image_list[i])\n",
        "#   tiles[i].image = newlist\n",
        "imgf = join(tiles)\n",
        "\n",
        "plt.imshow(imgf)\n",
        "\n",
        "#labels \n",
        "labels = {\n",
        "  \"AnnualCrop\":0,\n",
        "  \"Forest\" : 0,\n",
        "    \"HerbaceousVegetation\" :0,\n",
        "    \"Highway\":0,\n",
        "    \"Industrial\":0,\n",
        "    \"Pasture\":0,\n",
        "    \"PermanentCrop\":0,\n",
        "    \"Residential\":0,\n",
        "    \"River\":0,\n",
        "    \"SeaLake\":0\n",
        "}\n",
        "#the number of times a label found in the image \n",
        "labels[\"AnnualCrop\"] = sum(value == 0 for value in pred_index.values())\n",
        "labels[\"Forest\"] = sum(value == 1 for value in pred_index.values())\n",
        "labels[\"HerbaceousVegetation\"] = sum(value == 2 for value in pred_index.values())\n",
        "labels[\"Highway\"] = sum(value == 3 for value in pred_index.values())\n",
        "labels[\"Industrial\"] = sum(value == 4 for value in pred_index.values())\n",
        "labels[\"Pasture\"] = sum(value == 5 for value in pred_index.values())\n",
        "labels[\"PermanentCrop\"] = sum(value == 6 for value in pred_index.values())\n",
        "labels[\"Residential\"] = sum(value == 7 for value in pred_index.values())\n",
        "labels[\"River\"] = sum(value == 8 for value in pred_index.values())\n",
        "labels[\"SeaLake\"] = sum(value == 9 for value in pred_index.values())\n",
        "labels"
      ]
    },
    {
      "cell_type": "code",
      "execution_count": null,
      "metadata": {
        "colab": {
          "base_uri": "https://localhost:8080/",
          "height": 543
        },
        "id": "Tah96uPlBYyX",
        "outputId": "d84981a9-0f57-4715-d28b-480480263fd3"
      },
      "outputs": [],
      "source": [
        "\n",
        "\n",
        "# for i in range(0,2499):\n",
        "#   if(pred_index[i] == 0):\n",
        "#     AnnualCropindex.append(i)\n",
        "#   if(pred_index[i] == 1):\n",
        "#     Forestindex.append(i)\n",
        "#   if(pred_index[i] == 2):\n",
        "#     HerbaceousVegetationindex.append(i)\n",
        "#   if(pred_index[i] == 3):\n",
        "#     Highwayindex.append(i)\n",
        "#   if(pred_index[i] == 4):\n",
        "#     Industrialindex.append(i)\n",
        "#   if(pred_index[i] == 5):\n",
        "#     Pastureindex.append(i)\n",
        "#   if(pred_index[i] == 6):\n",
        "#     PermanentCropindex.append(i)\n",
        "#   if(pred_index[i] == 7):\n",
        "#     Residentialindex.append(i)\n",
        "#   if(pred_index[i] == 8):\n",
        "#     Riverindex.append(i)\n",
        "#   if(pred_index[i] == 9):\n",
        "#     SeaLakeindex.append(i)\n",
        "indeustrialindex2 = Industrialindex[48:64]\n",
        "fig = plt.figure(figsize=(10, 10))\n",
        "rows = 4\n",
        "columns = 4\n",
        "q = 1\n",
        "for i in indeustrialindex2:\n",
        "  fig.add_subplot(rows, columns, q)\n",
        "  q = q + 1 \n",
        "  plt.imshow(tiles[i].image)\n",
        "\n"
      ]
    },
    {
      "cell_type": "markdown",
      "metadata": {
        "id": "jt_L9GT167g7"
      },
      "source": [
        "# Tuti Island Biocapacity Calculation"
      ]
    },
    {
      "cell_type": "code",
      "execution_count": null,
      "metadata": {
        "colab": {
          "base_uri": "https://localhost:8080/"
        },
        "id": "C49qu7Zi7COB",
        "outputId": "0a487193-980e-411c-94a2-2c9306655bb4"
      },
      "outputs": [],
      "source": [
        "#BioCapacity = sum(area_of_khartoum * Yeild_factor_of_Sudan * Equivalince_factor)\n",
        "Area = 620 #for 2.94 zoom in google earth \n",
        "YF = {\n",
        "    \"Crop_Land\":0.437252,\n",
        "    \"Forest_Land\":0.439149,\n",
        "    \"Grazing_Land\":1,\n",
        "    \"Marine_Fishing\":1.47469,\n",
        "    \"Infrastructure\":0.437252,\n",
        "    \"Inland_Fishing\":1\n",
        "}\n",
        "EF = {\n",
        "    \"Crop_Land\":2.49939691398113,\n",
        "    \"Forest_Land\":1.26215878768974,\n",
        "    \"Grazing_Land\":0.453121058342895,\n",
        "    \"Marine_Fishing\":0.364490579331025,\n",
        "    \"Infrastructure\":2.49939691398113,\n",
        "    \"Inland_Fishing\":0.364490579331025\n",
        "}\n",
        "temp = {\n",
        "    \"Crop_Land\":0,\n",
        "    \"Forest_Land\":0,\n",
        "    \"Grazing_Land\":0,\n",
        "    \"Marine_Fishing\":0,\n",
        "    \"Infrastructure\":0,\n",
        "    \"Inland_Fishing\":0\n",
        "}\n",
        "\n",
        "temp['Crop_Land'] = labels['AnnualCrop'] + labels['PermanentCrop']\n",
        "temp['Forest_Land'] = labels['Forest']\n",
        "temp['Grazing_Land'] = labels['Pasture'] + labels['HerbaceousVegetation']\n",
        "temp['Marine_Fishing'] = labels['River']\n",
        "temp['Infrastructure'] = labels['Industrial'] + labels['Highway'] + labels['Residential']\n",
        "temp['Inland_Fishing'] = labels['SeaLake']\n",
        "bio = 0 \n",
        "for i in EF:\n",
        "    print(i,temp[i])\n",
        "    percentage = temp[i] / num_tiles\n",
        "    area = percentage * Area\n",
        "    print(percentage,area)\n",
        "    bio += area * YF[i] * EF[i] \n",
        "    print(bio)\n",
        "print(bio/Area)"
      ]
    }
  ],
  "metadata": {
    "accelerator": "GPU",
    "colab": {
      "collapsed_sections": [
        "t1sHTMkL1au3",
        "TLQPlU-H037H",
        "tKsUo2me48NY",
        "r4wfD5ph5JCL",
        "cQMCblI95W5x",
        "HkMYB8G75gdU",
        "BNhicIKD6BeI",
        "NLPUHEhV6lNV",
        "jt_L9GT167g7"
      ],
      "include_colab_link": true,
      "name": "RGB Biocapacity .ipynb",
      "provenance": []
    },
    "kernelspec": {
      "display_name": "Python 3",
      "name": "python3"
    },
    "language_info": {
      "codemirror_mode": {
        "name": "ipython",
        "version": 3
      },
      "file_extension": ".py",
      "mimetype": "text/x-python",
      "name": "python",
      "nbconvert_exporter": "python",
      "pygments_lexer": "ipython3",
      "version": "3.11.8"
    }
  },
  "nbformat": 4,
  "nbformat_minor": 0
}
